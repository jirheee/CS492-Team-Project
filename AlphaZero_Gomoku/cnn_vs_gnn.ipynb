{
 "cells": [
  {
   "cell_type": "code",
   "execution_count": 1,
   "metadata": {},
   "outputs": [],
   "source": [
    "import json\n",
    "import torch\n",
    "import random\n",
    "\n",
    "from tqdm import tqdm\n",
    "\n",
    "from game import Board, Game\n",
    "from mcts_pure import MCTSPlayer as MCTS_Pure\n",
    "from mcts_alphaZero import MCTSPlayer\n",
    "from nn_architecture import PolicyValueNet\n",
    "from human_play import Random"
   ]
  },
  {
   "cell_type": "code",
   "execution_count": 2,
   "metadata": {},
   "outputs": [
    {
     "name": "stdout",
     "output_type": "stream",
     "text": [
      "Number of Parameters(CNN): 105317\n",
      "Number of Parameters(GNN): 30277\n"
     ]
    }
   ],
   "source": [
    "data = './data/battle_example.json'\n",
    "n_rounds = 3\n",
    "\n",
    "f = open(data, encoding='utf-8')\n",
    "data = json.loads(f.read())\n",
    "\n",
    "width = data[\"board\"][\"board_width\"]\n",
    "height = data[\"board\"][\"board_height\"]\n",
    "n_in_row = data[\"board\"][\"n_in_row\"]\n",
    "board = Board(width=width, height=height, n_in_row=n_in_row)\n",
    "game = Game(board)\n",
    "\n",
    "# ############### human VS AI ###################\n",
    "player1_data = data[\"player1\"]\n",
    "player1_policy = PolicyValueNet(width, height, player1_data[\"nn_information\"], model_file=player1_data[\"model_path\"])\n",
    "player1_policy_num_params = player1_policy.num_params()\n",
    "player1 = MCTSPlayer(player1_policy.policy_value_fn, c_puct=5, n_playout=400)  # set larger n_playout for better performance\n",
    "print(f\"Number of Parameters(CNN): {player1_policy_num_params}\")\n",
    "\n",
    "player2_data = data[\"player2\"]\n",
    "player2_policy = PolicyValueNet(width, height, player2_data[\"nn_information\"], model_file=player2_data[\"model_path\"])\n",
    "player2_policy_num_params = player2_policy.num_params()\n",
    "player2 = MCTSPlayer(player2_policy.policy_value_fn, c_puct=5, n_playout=400)\n",
    "print(f\"Number of Parameters(GNN): {player2_policy_num_params}\")\n",
    "\n",
    "player1_wins = 0\n",
    "player2_wins = 0\n",
    "ties = 0\n",
    "# set start_player=0 for human first\n",
    "# for i in tqdm(range(n_rounds)):\n",
    "#     winner = game.start_play(player1, player2, start_player=random.randint(0, 1), is_shown=0)\n",
    "#     if winner == 1:\n",
    "#         player1_wins += 1\n",
    "#     elif winner == -1:\n",
    "#         ties += 1\n",
    "#     else: \n",
    "#         player2_wins += 1\n",
    "\n",
    "# print(f\"Number of Rounds: {n_rounds}\\t CNN wins: {player1_wins}\\t GNN wins: {player2_wins}\\t ties: {ties}\")"
   ]
  },
  {
   "cell_type": "code",
   "execution_count": 5,
   "metadata": {},
   "outputs": [
    {
     "name": "stderr",
     "output_type": "stream",
     "text": [
      "100%|██████████| 10/10 [04:04<00:00, 24.46s/it]\n"
     ]
    },
    {
     "name": "stdout",
     "output_type": "stream",
     "text": [
      "Epoch 50, Win Ratio: 1.0\n"
     ]
    },
    {
     "name": "stderr",
     "output_type": "stream",
     "text": [
      "100%|██████████| 10/10 [02:46<00:00, 16.68s/it]\n"
     ]
    },
    {
     "name": "stdout",
     "output_type": "stream",
     "text": [
      "Epoch 100, Win Ratio: 0.9\n"
     ]
    },
    {
     "name": "stderr",
     "output_type": "stream",
     "text": [
      "100%|██████████| 10/10 [02:39<00:00, 15.92s/it]\n"
     ]
    },
    {
     "name": "stdout",
     "output_type": "stream",
     "text": [
      "Epoch 150, Win Ratio: 1.0\n"
     ]
    },
    {
     "name": "stderr",
     "output_type": "stream",
     "text": [
      "100%|██████████| 10/10 [02:49<00:00, 16.97s/it]\n"
     ]
    },
    {
     "name": "stdout",
     "output_type": "stream",
     "text": [
      "Epoch 200, Win Ratio: 1.0\n"
     ]
    },
    {
     "name": "stderr",
     "output_type": "stream",
     "text": [
      "100%|██████████| 10/10 [02:33<00:00, 15.40s/it]\n"
     ]
    },
    {
     "name": "stdout",
     "output_type": "stream",
     "text": [
      "Epoch 250, Win Ratio: 1.0\n"
     ]
    },
    {
     "name": "stderr",
     "output_type": "stream",
     "text": [
      "100%|██████████| 10/10 [02:40<00:00, 16.04s/it]"
     ]
    },
    {
     "name": "stdout",
     "output_type": "stream",
     "text": [
      "Epoch 300, Win Ratio: 1.0\n"
     ]
    },
    {
     "name": "stderr",
     "output_type": "stream",
     "text": [
      "\n"
     ]
    },
    {
     "data": {
      "text/plain": [
       "[1.0]"
      ]
     },
     "execution_count": 5,
     "metadata": {},
     "output_type": "execute_result"
    }
   ],
   "source": [
    "# Compete with Random Opponent\n",
    "random_player = Random()\n",
    "\n",
    "for epoch in range(50, 301, 50):\n",
    "    cnn_player_data = data[\"player1\"]\n",
    "    cnn_player_policy = PolicyValueNet(width, height, cnn_player_data[\"nn_information\"], model_file=f'./model/cnn/epoch_{epoch}.model')\n",
    "    cnn_player = MCTSPlayer(cnn_player_policy.policy_value_fn, c_puct=5, n_playout=400) \n",
    "\n",
    "    win_ratio_list = []\n",
    "    random_wins = 0\n",
    "    ties = 0\n",
    "    cnn_player_wins = 0\n",
    "    for i in tqdm(range(10)):\n",
    "        winner = game.start_play(random_player, cnn_player, start_player=random.randint(0, 1), is_shown=0)\n",
    "        if winner == 1:\n",
    "            random_wins += 1\n",
    "        elif winner == -1:\n",
    "            ties += 1\n",
    "        else: \n",
    "            cnn_player_wins += 1\n",
    "    win_ratio = 1.0*(cnn_player_wins + 0.5*ties) / 10\n",
    "    print(f\"Epoch {epoch}, Win Ratio: {win_ratio}\")\n",
    "    win_ratio_list.append(win_ratio)\n",
    "win_ratio_list\n"
   ]
  },
  {
   "cell_type": "code",
   "execution_count": null,
   "metadata": {},
   "outputs": [],
   "source": []
  }
 ],
 "metadata": {
  "interpreter": {
   "hash": "206f2f80259c357371761ad0cded0ef7bf7f4bf97f2e7ab9dcf8991355f8a73e"
  },
  "kernelspec": {
   "display_name": "Python 3.8.11 64-bit ('rl_env': conda)",
   "name": "python3"
  },
  "language_info": {
   "codemirror_mode": {
    "name": "ipython",
    "version": 3
   },
   "file_extension": ".py",
   "mimetype": "text/x-python",
   "name": "python",
   "nbconvert_exporter": "python",
   "pygments_lexer": "ipython3",
   "version": "3.8.11"
  },
  "orig_nbformat": 4
 },
 "nbformat": 4,
 "nbformat_minor": 2
}
